{
 "cells": [
  {
   "cell_type": "code",
   "execution_count": 1,
   "metadata": {},
   "outputs": [],
   "source": [
    "import pandas as pd\n",
    "import matplotlib.pyplot as plt\n",
    "import seaborn as sns"
   ]
  },
  {
   "cell_type": "code",
   "execution_count": 2,
   "metadata": {},
   "outputs": [],
   "source": [
    "df = pd.read_csv(\"inflammation_diagnosis.csv\", sep=\";\")"
   ]
  },
  {
   "cell_type": "code",
   "execution_count": 3,
   "metadata": {},
   "outputs": [
    {
     "data": {
      "text/html": [
       "<div>\n",
       "<style scoped>\n",
       "    .dataframe tbody tr th:only-of-type {\n",
       "        vertical-align: middle;\n",
       "    }\n",
       "\n",
       "    .dataframe tbody tr th {\n",
       "        vertical-align: top;\n",
       "    }\n",
       "\n",
       "    .dataframe thead th {\n",
       "        text-align: right;\n",
       "    }\n",
       "</style>\n",
       "<table border=\"1\" class=\"dataframe\">\n",
       "  <thead>\n",
       "    <tr style=\"text-align: right;\">\n",
       "      <th></th>\n",
       "      <th>temperature</th>\n",
       "      <th>nausea</th>\n",
       "      <th>lumbar_pain</th>\n",
       "      <th>urine_pushing</th>\n",
       "      <th>micturition_pains</th>\n",
       "      <th>burning_of_urethra</th>\n",
       "      <th>inflammation</th>\n",
       "      <th>nephritis</th>\n",
       "    </tr>\n",
       "  </thead>\n",
       "  <tbody>\n",
       "    <tr>\n",
       "      <th>0</th>\n",
       "      <td>35.5</td>\n",
       "      <td>no</td>\n",
       "      <td>yes</td>\n",
       "      <td>no</td>\n",
       "      <td>no</td>\n",
       "      <td>no</td>\n",
       "      <td>no</td>\n",
       "      <td>no</td>\n",
       "    </tr>\n",
       "    <tr>\n",
       "      <th>1</th>\n",
       "      <td>35.9</td>\n",
       "      <td>no</td>\n",
       "      <td>no</td>\n",
       "      <td>yes</td>\n",
       "      <td>yes</td>\n",
       "      <td>yes</td>\n",
       "      <td>yes</td>\n",
       "      <td>no</td>\n",
       "    </tr>\n",
       "    <tr>\n",
       "      <th>2</th>\n",
       "      <td>35.9</td>\n",
       "      <td>no</td>\n",
       "      <td>yes</td>\n",
       "      <td>no</td>\n",
       "      <td>no</td>\n",
       "      <td>no</td>\n",
       "      <td>no</td>\n",
       "      <td>no</td>\n",
       "    </tr>\n",
       "    <tr>\n",
       "      <th>3</th>\n",
       "      <td>36.0</td>\n",
       "      <td>no</td>\n",
       "      <td>no</td>\n",
       "      <td>yes</td>\n",
       "      <td>yes</td>\n",
       "      <td>yes</td>\n",
       "      <td>yes</td>\n",
       "      <td>no</td>\n",
       "    </tr>\n",
       "    <tr>\n",
       "      <th>4</th>\n",
       "      <td>36.0</td>\n",
       "      <td>no</td>\n",
       "      <td>yes</td>\n",
       "      <td>no</td>\n",
       "      <td>no</td>\n",
       "      <td>no</td>\n",
       "      <td>no</td>\n",
       "      <td>no</td>\n",
       "    </tr>\n",
       "  </tbody>\n",
       "</table>\n",
       "</div>"
      ],
      "text/plain": [
       "   temperature nausea lumbar_pain urine_pushing micturition_pains  \\\n",
       "0         35.5     no         yes            no                no   \n",
       "1         35.9     no          no           yes               yes   \n",
       "2         35.9     no         yes            no                no   \n",
       "3         36.0     no          no           yes               yes   \n",
       "4         36.0     no         yes            no                no   \n",
       "\n",
       "  burning_of_urethra inflammation nephritis  \n",
       "0                 no           no        no  \n",
       "1                yes          yes        no  \n",
       "2                 no           no        no  \n",
       "3                yes          yes        no  \n",
       "4                 no           no        no  "
      ]
     },
     "execution_count": 3,
     "metadata": {},
     "output_type": "execute_result"
    }
   ],
   "source": [
    "df.head()"
   ]
  },
  {
   "cell_type": "code",
   "execution_count": 4,
   "metadata": {},
   "outputs": [
    {
     "name": "stdout",
     "output_type": "stream",
     "text": [
      "<class 'pandas.core.frame.DataFrame'>\n",
      "RangeIndex: 120 entries, 0 to 119\n",
      "Data columns (total 8 columns):\n",
      " #   Column              Non-Null Count  Dtype  \n",
      "---  ------              --------------  -----  \n",
      " 0   temperature         120 non-null    float64\n",
      " 1   nausea              120 non-null    object \n",
      " 2   lumbar_pain         120 non-null    object \n",
      " 3   urine_pushing       120 non-null    object \n",
      " 4   micturition_pains   120 non-null    object \n",
      " 5   burning_of_urethra  120 non-null    object \n",
      " 6   inflammation        120 non-null    object \n",
      " 7   nephritis           120 non-null    object \n",
      "dtypes: float64(1), object(7)\n",
      "memory usage: 7.6+ KB\n"
     ]
    }
   ],
   "source": [
    "df.info()"
   ]
  },
  {
   "cell_type": "code",
   "execution_count": 5,
   "metadata": {},
   "outputs": [],
   "source": [
    "def get_deasease(x):\n",
    "    \"\"\"\n",
    "    calculate deasease value using inflammation, nephritis\n",
    "    \"\"\"\n",
    "    lookup = {'no': False,'yes': True}\n",
    "    if not lookup[x.inflammation] and not lookup[x.nephritis]:\n",
    "        return False\n",
    "    else:\n",
    "        return True"
   ]
  },
  {
   "cell_type": "code",
   "execution_count": 6,
   "metadata": {},
   "outputs": [],
   "source": [
    "df['deasease'] = df.apply(get_deasease, axis=1)"
   ]
  },
  {
   "cell_type": "code",
   "execution_count": 7,
   "metadata": {},
   "outputs": [],
   "source": [
    "df.drop(columns=['inflammation', 'nephritis'], inplace=True)"
   ]
  },
  {
   "cell_type": "code",
   "execution_count": 8,
   "metadata": {},
   "outputs": [],
   "source": [
    "# train test split\n",
    "row_count = df.shape[0]\n",
    "split_point = int(row_count*0.20)\n",
    "test_data, train_data = df[:split_point], df[split_point:]\n"
   ]
  },
  {
   "cell_type": "code",
   "execution_count": 9,
   "metadata": {},
   "outputs": [
    {
     "name": "stdout",
     "output_type": "stream",
     "text": [
      "data size 120\n",
      "test_data size 24, train_data size 96\n"
     ]
    }
   ],
   "source": [
    "print(f\"data size {row_count}\")\n",
    "print(f\"test_data size {len(test_data)}, train_data size {len(train_data)}\")\n"
   ]
  },
  {
   "cell_type": "code",
   "execution_count": 10,
   "metadata": {},
   "outputs": [],
   "source": [
    "from naive_bayes_2classifier import NaiveBayes\n",
    "target_column = 'deasease'\n",
    "nb_classifier = NaiveBayes(continuous=[True, False, False, False, False, False])  # Adjust according to your features\n",
    "nb_classifier.fit(train_data, target_column)\n",
    "probabilities_df = nb_classifier.predict_probability(test_data)\n",
    "accuracy, confusion_matrix = nb_classifier.evaluate_on_data(test_data, test_data[target_column])"
   ]
  },
  {
   "cell_type": "code",
   "execution_count": 11,
   "metadata": {},
   "outputs": [
    {
     "data": {
      "text/plain": [
       "(1.0,\n",
       " Actual     False  True \n",
       " Predicted              \n",
       " False         11      0\n",
       " True           0     13)"
      ]
     },
     "execution_count": 11,
     "metadata": {},
     "output_type": "execute_result"
    }
   ],
   "source": [
    "accuracy,  confusion_matrix"
   ]
  },
  {
   "cell_type": "code",
   "execution_count": 12,
   "metadata": {},
   "outputs": [
    {
     "data": {
      "text/html": [
       "<div>\n",
       "<style scoped>\n",
       "    .dataframe tbody tr th:only-of-type {\n",
       "        vertical-align: middle;\n",
       "    }\n",
       "\n",
       "    .dataframe tbody tr th {\n",
       "        vertical-align: top;\n",
       "    }\n",
       "\n",
       "    .dataframe thead th {\n",
       "        text-align: right;\n",
       "    }\n",
       "</style>\n",
       "<table border=\"1\" class=\"dataframe\">\n",
       "  <thead>\n",
       "    <tr style=\"text-align: right;\">\n",
       "      <th></th>\n",
       "      <th>temperature</th>\n",
       "      <th>nausea</th>\n",
       "      <th>lumbar_pain</th>\n",
       "      <th>urine_pushing</th>\n",
       "      <th>micturition_pains</th>\n",
       "      <th>burning_of_urethra</th>\n",
       "      <th>deasease</th>\n",
       "    </tr>\n",
       "  </thead>\n",
       "  <tbody>\n",
       "    <tr>\n",
       "      <th>0</th>\n",
       "      <td>35.5</td>\n",
       "      <td>no</td>\n",
       "      <td>yes</td>\n",
       "      <td>no</td>\n",
       "      <td>no</td>\n",
       "      <td>no</td>\n",
       "      <td>False</td>\n",
       "    </tr>\n",
       "    <tr>\n",
       "      <th>1</th>\n",
       "      <td>35.9</td>\n",
       "      <td>no</td>\n",
       "      <td>no</td>\n",
       "      <td>yes</td>\n",
       "      <td>yes</td>\n",
       "      <td>yes</td>\n",
       "      <td>True</td>\n",
       "    </tr>\n",
       "    <tr>\n",
       "      <th>2</th>\n",
       "      <td>35.9</td>\n",
       "      <td>no</td>\n",
       "      <td>yes</td>\n",
       "      <td>no</td>\n",
       "      <td>no</td>\n",
       "      <td>no</td>\n",
       "      <td>False</td>\n",
       "    </tr>\n",
       "    <tr>\n",
       "      <th>3</th>\n",
       "      <td>36.0</td>\n",
       "      <td>no</td>\n",
       "      <td>no</td>\n",
       "      <td>yes</td>\n",
       "      <td>yes</td>\n",
       "      <td>yes</td>\n",
       "      <td>True</td>\n",
       "    </tr>\n",
       "    <tr>\n",
       "      <th>4</th>\n",
       "      <td>36.0</td>\n",
       "      <td>no</td>\n",
       "      <td>yes</td>\n",
       "      <td>no</td>\n",
       "      <td>no</td>\n",
       "      <td>no</td>\n",
       "      <td>False</td>\n",
       "    </tr>\n",
       "  </tbody>\n",
       "</table>\n",
       "</div>"
      ],
      "text/plain": [
       "   temperature nausea lumbar_pain urine_pushing micturition_pains  \\\n",
       "0         35.5     no         yes            no                no   \n",
       "1         35.9     no          no           yes               yes   \n",
       "2         35.9     no         yes            no                no   \n",
       "3         36.0     no          no           yes               yes   \n",
       "4         36.0     no         yes            no                no   \n",
       "\n",
       "  burning_of_urethra  deasease  \n",
       "0                 no     False  \n",
       "1                yes      True  \n",
       "2                 no     False  \n",
       "3                yes      True  \n",
       "4                 no     False  "
      ]
     },
     "execution_count": 12,
     "metadata": {},
     "output_type": "execute_result"
    }
   ],
   "source": [
    "df.head()"
   ]
  },
  {
   "cell_type": "code",
   "execution_count": 13,
   "metadata": {},
   "outputs": [
    {
     "data": {
      "text/plain": [
       "Index(['temperature', 'nausea', 'lumbar_pain', 'urine_pushing',\n",
       "       'micturition_pains', 'burning_of_urethra', 'deasease'],\n",
       "      dtype='object')"
      ]
     },
     "execution_count": 13,
     "metadata": {},
     "output_type": "execute_result"
    }
   ],
   "source": [
    "df.columns"
   ]
  },
  {
   "cell_type": "code",
   "execution_count": 14,
   "metadata": {},
   "outputs": [],
   "source": [
    "from naive_bayes_1classifier import NaiveBayes\n",
    "# Sample data\n",
    "data = df\n",
    "# Separate features and target label\n",
    "y_train = train_data.pop('deasease')\n",
    "X_train = train_data\n",
    "# Example test data\n",
    "y_test = test_data.pop('deasease') # Actual test labels for evaluation\n",
    "X_test = test_data\n",
    "# Initialize the NaiveBayes model\n",
    "continuous_features = [True, False, False, False, False, False]  # temperature is continuous, Feature2 are discrete\n",
    "model = NaiveBayes(continuous=continuous_features)\n",
    "# Fit the model on training data\n",
    "model.fit(df, target_name='deasease')"
   ]
  },
  {
   "cell_type": "code",
   "execution_count": 15,
   "metadata": {},
   "outputs": [
    {
     "name": "stdout",
     "output_type": "stream",
     "text": [
      "Predicted Probabilities:\n",
      "         False      True  Prediction\n",
      "0   -4.305832 -8.724922       False\n",
      "1  -46.182247 -5.581621        True\n",
      "2   -4.042568 -8.304612       False\n",
      "3  -46.123175 -5.484704        True\n",
      "4   -3.983496 -8.207696       False\n",
      "5   -3.983496 -8.207696       False\n",
      "6  -46.013122 -5.300664        True\n",
      "7   -3.873443 -8.023656       False\n",
      "8  -45.962142 -5.213541        True\n",
      "9  -45.825385 -4.971758        True\n",
      "10 -45.825385 -4.971758        True\n",
      "11  -3.685706 -7.694749       False\n",
      "12  -3.685706 -7.694749       False\n",
      "13 -45.785194 -4.897692        True\n",
      "14  -3.645515 -7.620684       False\n",
      "15  -3.645515 -7.620684       False\n",
      "16 -45.747700 -4.826891        True\n",
      "17 -45.747700 -4.826891        True\n",
      "18 -45.712904 -4.759354        True\n",
      "19  -3.573225 -7.482345       False\n",
      "20 -31.865295 -4.918225        True\n",
      "21 -31.865295 -4.918225        True\n",
      "22  -3.541127 -7.418073       False\n",
      "23 -45.680805 -4.695081        True\n"
     ]
    }
   ],
   "source": [
    "# Predict probabilities for test data\n",
    "predicted_probabilities = model.predict_probability(X_test)\n",
    "print(\"Predicted Probabilities:\\n\", predicted_probabilities)"
   ]
  },
  {
   "cell_type": "code",
   "execution_count": 16,
   "metadata": {},
   "outputs": [
    {
     "name": "stdout",
     "output_type": "stream",
     "text": [
      "Predicted Labels: [False  True False  True False False  True False  True  True  True False\n",
      " False  True False False  True  True  True False  True  True False  True]\n"
     ]
    }
   ],
   "source": [
    "# Predict the class labels for test data\n",
    "predicted_labels = predicted_probabilities['Prediction']\n",
    "print(\"Predicted Labels:\", predicted_labels.values)"
   ]
  },
  {
   "cell_type": "code",
   "execution_count": 17,
   "metadata": {},
   "outputs": [
    {
     "name": "stdout",
     "output_type": "stream",
     "text": [
      "Accuracy: 1.0\n",
      "Confusion Matrix:\n",
      "Predicted  False  True \n",
      "Actual                 \n",
      "False         11      0\n",
      "True           0     13\n"
     ]
    }
   ],
   "source": [
    "# Evaluate the model\n",
    "accuracy, confusion_matrix = model.evaluate_on_data(X_test, y_test)\n",
    "print(f\"Accuracy: {accuracy}\")\n",
    "print(f\"Confusion Matrix:\\n{confusion_matrix}\")"
   ]
  },
  {
   "cell_type": "code",
   "execution_count": 18,
   "metadata": {},
   "outputs": [],
   "source": [
    "\n",
    "# Plot Confusion Matrix\n",
    "def plot_confusion_matrix(conf_matrix):\n",
    "    plt.figure(figsize=(8, 6))\n",
    "    sns.heatmap(conf_matrix, annot=True, fmt='d', cmap='Blues', cbar=False)\n",
    "    plt.title('Confusion Matrix')\n",
    "    plt.show()"
   ]
  },
  {
   "cell_type": "code",
   "execution_count": 19,
   "metadata": {},
   "outputs": [
    {
     "data": {
      "image/png": "[encoded data removed]",
      "text/plain": [
       "<Figure size 800x600 with 1 Axes>"
      ]
     },
     "metadata": {},
     "output_type": "display_data"
    }
   ],
   "source": [
    "plot_confusion_matrix(confusion_matrix)"
   ]
  },
  {
   "cell_type": "code",
   "execution_count": null,
   "metadata": {},
   "outputs": [],
   "source": []
  }
 ],
 "metadata": {
  "kernelspec": {
   "display_name": "testall",
   "language": "python",
   "name": "python3"
  },
  "language_info": {
   "codemirror_mode": {
    "name": "ipython",
    "version": 3
   },
   "file_extension": ".py",
   "mimetype": "text/x-python",
   "name": "python",
   "nbconvert_exporter": "python",
   "pygments_lexer": "ipython3",
   "version": "3.9.19"
  }
 },
 "nbformat": 4,
 "nbformat_minor": 2
}
